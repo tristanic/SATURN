{
 "cells": [
  {
   "cell_type": "code",
   "execution_count": null,
   "metadata": {},
   "outputs": [],
   "source": [
    "import scanpy as sc\n",
    "import os\n",
    "import pandas as pd\n",
    "import numpy as np\n",
    "from anndata import AnnData, read_csv\n",
    "import seaborn as sns\n",
    "from matplotlib import pyplot as plt\n",
    "from glob import glob"
   ]
  },
  {
   "cell_type": "code",
   "execution_count": null,
   "metadata": {},
   "outputs": [],
   "source": [
    "import warnings\n",
    "warnings.filterwarnings('ignore')"
   ]
  },
  {
   "cell_type": "code",
   "execution_count": null,
   "metadata": {},
   "outputs": [],
   "source": [
    "loc = './data/'"
   ]
  },
  {
   "cell_type": "markdown",
   "metadata": {},
   "source": [
    "# Create Zebrafish AnnData"
   ]
  },
  {
   "cell_type": "markdown",
   "metadata": {},
   "source": [
    "### Assign annotations from SAMap\n",
    "\n",
    "Download the raw zebrafish h5ad File and map annotations from [elife paper](https://elifesciences.org/articles/66747)."
   ]
  },
  {
   "cell_type": "code",
   "execution_count": null,
   "metadata": {},
   "outputs": [],
   "source": [
    "try:\n",
    "    zebrafish = sc.read(os.path.join(loc,'WagnerScience2018.h5ad'))\n",
    "except FileNotFoundError:\n",
    "    !wget -O ./data/WagnerScience2018.h5ad https://kleintools.hms.harvard.edu/paper_websites/wagner_zebrafish_timecourse2018/WagnerScience2018.h5ad\n",
    "    zebrafish = sc.read(os.path.join(loc,'WagnerScience2018.h5ad'))\n",
    "zebrafish.obs['cluster'] = pd.Categorical([z[6:] if '-' in z else z for z in zebrafish.obs['ClusterName']])"
   ]
  },
  {
   "cell_type": "code",
   "execution_count": null,
   "metadata": {},
   "outputs": [],
   "source": [
    "with open(os.path.join(loc,'zebrafish_cell_types_mapping')) as f:\n",
    "    cell_types_mapping = f.readlines()\n",
    "ct_map = {}\n",
    "for line in cell_types_mapping[1:]:\n",
    "    el = line.split(\"\\t\")\n",
    "    ct_map[el[0].strip()] = el[1].strip()\n",
    "ct_map['periderm'] = 'Periderm'\n",
    "ct_map['pluripotent'] = 'Pluripotent'\n",
    "ct_map['neural - floorplate posterior'] = 'Notoplate'\n",
    "ct_map['neural crest - mcamb'] = 'Neural crest'\n",
    "ct_map['neural crest - melanoblast'] = 'Neural crest'\n",
    "ct_map['neural crest - iridoblast'] = 'Neural crest'\n",
    "ct_map['neural crest - xanthophore'] = 'Neural crest'\n",
    "ct_map['neural crest - crestin'] = 'Neural crest'"
   ]
  },
  {
   "cell_type": "code",
   "execution_count": null,
   "metadata": {},
   "outputs": [],
   "source": [
    "samap_clusters = []\n",
    "not_found = []\n",
    "for f in zebrafish.obs['cluster']:\n",
    "    if f.strip() not in ct_map:\n",
    "        samap_clusters.append('NaN')\n",
    "        not_found.append(f)\n",
    "    else:\n",
    "        samap_clusters.append(ct_map[f.strip()])\n",
    "print(set(not_found))\n",
    "zebrafish.obs['cell_type'] = pd.Categorical(samap_clusters)\n",
    "zebrafish = zebrafish[zebrafish.obs['cell_type']!='NaN']\n",
    "zebrafish.write(os.path.join(loc,'zebrafish_annot.h5ad'))"
   ]
  },
  {
   "cell_type": "markdown",
   "metadata": {},
   "source": [
    "### Load zebrafish data"
   ]
  },
  {
   "cell_type": "code",
   "execution_count": null,
   "metadata": {},
   "outputs": [],
   "source": [
    "zebrafish = sc.read(os.path.join(loc,'zebrafish_annot.h5ad'))"
   ]
  },
  {
   "cell_type": "code",
   "execution_count": null,
   "metadata": {},
   "outputs": [],
   "source": [
    "zebrafish.obs"
   ]
  },
  {
   "cell_type": "code",
   "execution_count": null,
   "metadata": {},
   "outputs": [],
   "source": [
    "zebrafish.obs_names = [x for x in zebrafish.obs_names ]\n",
    "zebrafish.var_names = [x for x in zebrafish.var_names ]\n",
    "zebrafish.obs.cell_type = [x for x in zebrafish.obs.cell_type ]"
   ]
  },
  {
   "cell_type": "code",
   "execution_count": null,
   "metadata": {},
   "outputs": [],
   "source": [
    "sc.pp.filter_cells(zebrafish, min_genes=500)\n",
    "sc.pp.filter_genes(zebrafish, min_cells=10)"
   ]
  },
  {
   "cell_type": "code",
   "execution_count": null,
   "metadata": {},
   "outputs": [],
   "source": [
    "zebrafish.X.toarray().max()"
   ]
  },
  {
   "cell_type": "code",
   "execution_count": null,
   "metadata": {},
   "outputs": [],
   "source": [
    "zebrafish.write(os.path.join(loc, \"zebrafish.h5ad\"))"
   ]
  },
  {
   "cell_type": "code",
   "execution_count": null,
   "metadata": {},
   "outputs": [],
   "source": [
    "zebrafish"
   ]
  },
  {
   "cell_type": "code",
   "execution_count": null,
   "metadata": {},
   "outputs": [],
   "source": [
    "# free up memory\n",
    "zebrafish.X = None\n",
    "zebrafish = None"
   ]
  },
  {
   "cell_type": "markdown",
   "metadata": {},
   "source": [
    "# Create Frog AnnData\n",
    "Download the raw frog h5ad File and map annotations from [elife paper](https://elifesciences.org/articles/66747)."
   ]
  },
  {
   "cell_type": "markdown",
   "metadata": {},
   "source": [
    "Download the Data from GSE"
   ]
  },
  {
   "cell_type": "code",
   "execution_count": null,
   "metadata": {},
   "outputs": [],
   "source": [
    "if not os.path.exists(os.path.join('.','data','GSE113074_Raw_combined.annotated_counts.tsv')):\n",
    "    !wget -O ./data/GSE113074_Raw_combined.annotated_counts.tsv.gz \"https://ftp.ncbi.nlm.nih.gov/geo/series/GSE113nnn/GSE113074/suppl/GSE113074_Raw_combined.annotated_counts.tsv.gz\"\n",
    "    !gunzip ./data/GSE113074_Raw_combined.annotated_counts.tsv.gz"
   ]
  },
  {
   "cell_type": "code",
   "execution_count": null,
   "metadata": {},
   "outputs": [],
   "source": [
    "def generate_frog_h5ad():    \n",
    "    filepath_frog = os.path.join(loc,'GSE113074_Raw_combined.annotated_counts.tsv')\n",
    "    with open(filepath_frog) as f:\n",
    "        frog_data = f.readlines()\n",
    "    print(f'Data size: {len(frog_data)}')\n",
    "    barcodes = [f for f in frog_data[5].split(\"\\t\")]\n",
    "    parent_clusters = [f[4:].strip() if f.startswith('S') else f for f in frog_data[8].split(\"\\t\")]\n",
    "    clusters = [f[4:].strip() if f.startswith('S') else f for f in frog_data[7].split(\"\\t\")]\n",
    "    genes = []\n",
    "    data = np.zeros((len(frog_data[9:]),len(barcodes)-1), dtype=np.float32)\n",
    "    print(f'Data shape: {data.shape}')\n",
    "    frog_data = frog_data[9:]\n",
    "    i = 0\n",
    "    while len(frog_data):\n",
    "        f = frog_data.pop(0)\n",
    "        cutoff = f.find('\\t')\n",
    "        #line = f.split(\"\\t\")\n",
    "        genes.append(f[:cutoff])\n",
    "        data[i, :] = np.fromstring(f[cutoff+1:],sep='\\t', dtype=np.float32)\n",
    "        if i%10==0:\n",
    "            print(f'Line {i}', end='\\r')\n",
    "        i += 1\n",
    "    \n",
    "    # create anndata\n",
    "    data = data.T\n",
    "    from scipy import sparse\n",
    "    data = sparse.csc_matrix(data)\n",
    "    adata = AnnData(data)\n",
    "    adata.var_names = genes\n",
    "    adata.obs_names = barcodes[1:]\n",
    "    adata.obs['clusters'] = clusters[1:]\n",
    "    adata.obs['parent_clusters'] = parent_clusters[1:]\n",
    "    \n",
    "    # add samap cell type annotations\n",
    "    with open(os.path.join(loc, 'frog_cell_types_mapping')) as f:\n",
    "        cell_types_mapping = f.readlines()\n",
    "    ct_map = {}\n",
    "    for line in cell_types_mapping[1:]:\n",
    "        el = line.split(\"\\t\")\n",
    "        ct_map[el[0].strip()] = el[1].strip()\n",
    "    ct_map['Outlier'] = 'Outlier'\n",
    "    samap_clusters = []\n",
    "    for f in adata.obs['clusters']:\n",
    "        if f.strip() not in ct_map:\n",
    "            print(f)\n",
    "        samap_clusters.append(ct_map[f.strip()])\n",
    "    adata.obs['cell_type'] = samap_clusters\n",
    "    \n",
    "    adata.write(os.path.join(loc,'GSE113074_Corrected_combined.annotated_counts.h5ad'))    \n",
    "    return adata"
   ]
  },
  {
   "cell_type": "code",
   "execution_count": null,
   "metadata": {},
   "outputs": [],
   "source": [
    "frog = generate_frog_h5ad()"
   ]
  },
  {
   "cell_type": "code",
   "execution_count": null,
   "metadata": {},
   "outputs": [],
   "source": [
    "frog_annot = sc.read_h5ad(os.path.join(loc,'GSE113074_Corrected_combined.annotated_counts.h5ad'))"
   ]
  },
  {
   "cell_type": "code",
   "execution_count": null,
   "metadata": {},
   "outputs": [],
   "source": [
    "frog_counts = frog"
   ]
  },
  {
   "cell_type": "code",
   "execution_count": null,
   "metadata": {},
   "outputs": [],
   "source": [
    "frog_annot"
   ]
  },
  {
   "cell_type": "code",
   "execution_count": null,
   "metadata": {},
   "outputs": [],
   "source": [
    "frog"
   ]
  },
  {
   "cell_type": "code",
   "execution_count": null,
   "metadata": {},
   "outputs": [],
   "source": [
    "frog = frog[frog.obs['cell_type']!='Outlier']"
   ]
  },
  {
   "cell_type": "code",
   "execution_count": null,
   "metadata": {},
   "outputs": [],
   "source": [
    "frog.obs_names = [x for x in frog.obs_names ]\n",
    "frog.var_names = [x for x in frog.var_names ]\n",
    "frog.obs.cell_type = [x for x in frog.obs.cell_type ]"
   ]
  },
  {
   "cell_type": "code",
   "execution_count": null,
   "metadata": {},
   "outputs": [],
   "source": [
    "sc.pp.filter_cells(frog, min_genes=500)\n",
    "sc.pp.filter_genes(frog, min_cells=10)"
   ]
  },
  {
   "cell_type": "code",
   "execution_count": null,
   "metadata": {},
   "outputs": [],
   "source": [
    "frog.X"
   ]
  },
  {
   "cell_type": "code",
   "execution_count": null,
   "metadata": {},
   "outputs": [],
   "source": [
    "frog.write(os.path.join(loc, \"frog.h5ad\"))"
   ]
  },
  {
   "cell_type": "code",
   "execution_count": null,
   "metadata": {
    "tags": []
   },
   "outputs": [],
   "source": [
    "frog"
   ]
  }
 ],
 "metadata": {
  "kernelspec": {
   "display_name": "base (/usr/conda)",
   "language": "python",
   "name": "system_base"
  },
  "language_info": {
   "codemirror_mode": {
    "name": "ipython",
    "version": 3
   },
   "file_extension": ".py",
   "mimetype": "text/x-python",
   "name": "python",
   "nbconvert_exporter": "python",
   "pygments_lexer": "ipython3",
   "version": "3.10.10"
  }
 },
 "nbformat": 4,
 "nbformat_minor": 4
}
